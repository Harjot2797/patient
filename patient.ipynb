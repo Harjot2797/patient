{
  "nbformat": 4,
  "nbformat_minor": 0,
  "metadata": {
    "colab": {
      "provenance": [],
      "toc_visible": true,
      "authorship_tag": "ABX9TyP7NECYZTyMzm2XzKWu1ebL",
      "include_colab_link": true
    },
    "kernelspec": {
      "name": "python3",
      "display_name": "Python 3"
    },
    "language_info": {
      "name": "python"
    }
  },
  "cells": [
    {
      "cell_type": "markdown",
      "metadata": {
        "id": "view-in-github",
        "colab_type": "text"
      },
      "source": [
        "<a href=\"https://colab.research.google.com/github/Harjot2797/patient/blob/main/patient.ipynb\" target=\"_parent\"><img src=\"https://colab.research.google.com/assets/colab-badge.svg\" alt=\"Open In Colab\"/></a>"
      ]
    },
    {
      "cell_type": "markdown",
      "source": [
        "Task 1 solution:\n"
      ],
      "metadata": {
        "id": "1tW2QFN2FS1X"
      }
    },
    {
      "cell_type": "code",
      "execution_count": 6,
      "metadata": {
        "colab": {
          "base_uri": "https://localhost:8080/"
        },
        "id": "OlySkj7NE0_w",
        "outputId": "30b604d3-d90e-41ce-c1b9-d4733ff21a05"
      },
      "outputs": [
        {
          "output_type": "stream",
          "name": "stdout",
          "text": [
            "Cleaned Dataset:\n",
            "  Patient ID        Age      Diagnosis  Length of Stay Hospital Department\n",
            "0       P001  45.000000            Flu        3.000000           Emergency\n",
            "1       P002  67.000000      Pneumonia        7.000000    General Medicine\n",
            "2       P003  34.000000       Fracture        2.000000         Orthopedics\n",
            "3       P004  78.000000       COVID-19       14.000000          Cardiology\n",
            "4       P005  54.000000  Heart Disease       10.000000         Orthopedics\n",
            "5       P006  23.000000            Flu        5.000000           Emergency\n",
            "6       P007  48.888889      Pneumonia        8.000000    General Medicine\n",
            "7       P008  36.000000       Fracture        7.444444         Orthopedics\n",
            "8       P009  62.000000       COVID-19       12.000000          Cardiology\n",
            "9       P010  41.000000  Heart Disease        6.000000    General Medicine\n",
            "\n",
            "Statistical Analysis Summary:\n",
            "                                Metric      Value\n",
            "0                             Mean Age  48.888889\n",
            "1                           Median Age  46.944444\n",
            "2             Standard Deviation (Age)  16.696270\n",
            "3                  Mean Length of Stay   7.444444\n",
            "4                Median Length of Stay   7.222222\n",
            "5  Standard Deviation (Length of Stay)   3.774508\n"
          ]
        },
        {
          "output_type": "stream",
          "name": "stderr",
          "text": [
            "<ipython-input-6-64705d6cee4d>:20: FutureWarning: A value is trying to be set on a copy of a DataFrame or Series through chained assignment using an inplace method.\n",
            "The behavior will change in pandas 3.0. This inplace method will never work because the intermediate object on which we are setting values always behaves as a copy.\n",
            "\n",
            "For example, when doing 'df[col].method(value, inplace=True)', try using 'df.method({col: value}, inplace=True)' or df[col] = df[col].method(value) instead, to perform the operation inplace on the original object.\n",
            "\n",
            "\n",
            "  df_cleaned[\"Age\"].fillna(df_cleaned[\"Age\"].mean(), inplace=True)\n",
            "<ipython-input-6-64705d6cee4d>:20: SettingWithCopyWarning: \n",
            "A value is trying to be set on a copy of a slice from a DataFrame\n",
            "\n",
            "See the caveats in the documentation: https://pandas.pydata.org/pandas-docs/stable/user_guide/indexing.html#returning-a-view-versus-a-copy\n",
            "  df_cleaned[\"Age\"].fillna(df_cleaned[\"Age\"].mean(), inplace=True)\n",
            "<ipython-input-6-64705d6cee4d>:21: FutureWarning: A value is trying to be set on a copy of a DataFrame or Series through chained assignment using an inplace method.\n",
            "The behavior will change in pandas 3.0. This inplace method will never work because the intermediate object on which we are setting values always behaves as a copy.\n",
            "\n",
            "For example, when doing 'df[col].method(value, inplace=True)', try using 'df.method({col: value}, inplace=True)' or df[col] = df[col].method(value) instead, to perform the operation inplace on the original object.\n",
            "\n",
            "\n",
            "  df_cleaned[\"Length of Stay\"].fillna(df_cleaned[\"Length of Stay\"].mean(), inplace=True)\n",
            "<ipython-input-6-64705d6cee4d>:21: SettingWithCopyWarning: \n",
            "A value is trying to be set on a copy of a slice from a DataFrame\n",
            "\n",
            "See the caveats in the documentation: https://pandas.pydata.org/pandas-docs/stable/user_guide/indexing.html#returning-a-view-versus-a-copy\n",
            "  df_cleaned[\"Length of Stay\"].fillna(df_cleaned[\"Length of Stay\"].mean(), inplace=True)\n"
          ]
        }
      ],
      "source": [
        "import pandas as pd\n",
        "\n",
        "# Example dataset\n",
        "data_dict = {\n",
        "    \"Patient ID\": [\"P001\", \"P002\", \"P003\", \"P004\", \"P005\", \"P006\", \"P007\", \"P008\", \"P009\", \"P010\", \"P003\"],\n",
        "    \"Age\": [45, 67, 34, 78, 54, 23, None, 36, 62, 41, 34],\n",
        "    \"Diagnosis\": [\"Flu\", \"Pneumonia\", \"Fracture\", \"COVID-19\", \"Heart Disease\", \"Flu\", \"Pneumonia\", \"Fracture\", \"COVID-19\", \"Heart Disease\", \"Fracture\"],\n",
        "    \"Length of Stay\": [3, 7, 2, 14, 10, 5, 8, None, 12, 6, 2],\n",
        "    \"Hospital Department\": [\"Emergency\", \"General Medicine\", \"Orthopedics\", \"Cardiology\", \"Orthopedics\", \"Emergency\", \"General Medicine\", \"Orthopedics\", \"Cardiology\", \"General Medicine\", \"Orthopedics\"],\n",
        "}\n",
        "\n",
        "# Convert dictionary to DataFrame\n",
        "df = pd.DataFrame(data_dict)\n",
        "\n",
        "# Step 1: Cleaning the dataset\n",
        "# Remove duplicates\n",
        "df_cleaned = df.drop_duplicates()\n",
        "\n",
        "# Handle missing values (example: filling with mean, assuming there are missing values)\n",
        "df_cleaned[\"Age\"].fillna(df_cleaned[\"Age\"].mean(), inplace=True)\n",
        "df_cleaned[\"Length of Stay\"].fillna(df_cleaned[\"Length of Stay\"].mean(), inplace=True)\n",
        "\n",
        "# Save cleaned data to a CSV file\n",
        "df_cleaned.to_csv(\"cleaned_patient_data.csv\", index=False)\n",
        "\n",
        "# Step 2: Perform statistical analysis\n",
        "statistics = {\n",
        "    \"Mean Age\": df_cleaned[\"Age\"].mean(),\n",
        "    \"Median Age\": df_cleaned[\"Age\"].median(),\n",
        "    \"Standard Deviation (Age)\": df_cleaned[\"Age\"].std(),\n",
        "    \"Mean Length of Stay\": df_cleaned[\"Length of Stay\"].mean(),\n",
        "    \"Median Length of Stay\": df_cleaned[\"Length of Stay\"].median(),\n",
        "    \"Standard Deviation (Length of Stay)\": df_cleaned[\"Length of Stay\"].std(),\n",
        "}\n",
        "\n",
        "# Convert statistics to a summary table\n",
        "stats_summary = pd.DataFrame(\n",
        "    list(statistics.items()),\n",
        "    columns=[\"Metric\", \"Value\"]\n",
        ")\n",
        "\n",
        "# Display results\n",
        "print(\"Cleaned Dataset:\")\n",
        "print(df_cleaned)\n",
        "print(\"\\nStatistical Analysis Summary:\")\n",
        "print(stats_summary)\n"
      ]
    },
    {
      "cell_type": "code",
      "source": [],
      "metadata": {
        "id": "qDtzXppiFaXB"
      },
      "execution_count": null,
      "outputs": []
    },
    {
      "cell_type": "markdown",
      "source": [
        "Task 2 solution:\n",
        "1. Assess the Extent of the Problem\n",
        "\n",
        "Perform an initial exploration of the dataset using tools such as Pandas’ df.info() or df.isnull().sum() to determine the percentage of missing data in each column.\n",
        "\n",
        "Identify inaccurate data by validating against logical constraints and expected ranges. For example:\n",
        "\n",
        "Ensure ages are within a plausible range (e.g., 0–120 years).\n",
        "\n",
        "Verify lengths of stay correspond to realistic treatment durations.\n",
        "\n",
        "2. Categorize Data Based on Importance\n",
        "\n",
        "Critical Data: Columns essential for analysis, such as patient IDs, diagnoses, or treatment information, require thorough handling.\n",
        "\n",
        "Non-Critical Data: Less important columns, such as optional demographic details, can be deprioritized or omitted if incomplete.\n",
        "\n",
        "3. Handle Missing Data\n",
        "\n",
        "Remove Records:\n",
        "\n",
        "If missing data affects a small percentage of rows and is in critical fields, these rows can be removed to minimize bias.\n",
        "\n",
        "Impute Missing Values:\n",
        "\n",
        "For numerical data, use statistical methods such as mean, median, or mode. Advanced techniques, like regression or K-Nearest Neighbors (KNN) imputation, may also be considered for higher accuracy.\n",
        "\n",
        "For categorical data, impute using the most frequent category or predictive modeling based on related variables.\n",
        "\n",
        "Flag Imputed Data:\n",
        "\n",
        "Create a flag column to indicate records where imputation has been applied. This allows for transparency and further review if necessary.\n",
        "\n",
        "4. Validate Data Accuracy\n",
        "\n",
        "Cross-check the dataset against reliable external sources (e.g., reference databases or clinical standards) to confirm the validity of key fields.\n",
        "\n",
        "Apply domain-specific business logic to detect errors (e.g., ensuring that the length of stay aligns with the diagnosis and treatment).\n",
        "\n",
        "5. Document Assumptions and Modifications\n",
        "\n",
        "Maintain detailed records of all actions taken during the cleaning process, including:\n",
        "\n",
        "The method of imputation used for missing values.\n",
        "\n",
        "The percentage of data removed, modified, or flagged.\n",
        "\n",
        "Assumptions made during corrections.\n",
        "\n",
        "Share these records with stakeholders to ensure transparency and reproducibility.\n",
        "\n",
        "6. Test the Robustness of the Cleaned Dataset\n",
        "\n",
        "Conduct analyses both with and without imputed data to validate the consistency of results.\n",
        "\n",
        "Use sensitivity analysis to measure the impact of missing or modified data on key metrics and insights."
      ],
      "metadata": {
        "id": "iM0UdHvB6HVQ"
      }
    },
    {
      "cell_type": "code",
      "source": [],
      "metadata": {
        "id": "o8aZwmbcFafi"
      },
      "execution_count": null,
      "outputs": []
    },
    {
      "cell_type": "markdown",
      "source": [
        "Task 3 solution:\n",
        "\n",
        "Which of the following is NOT a typical step in data cleaning?\n",
        "\n",
        "Answer: b) Filling missing data with random values\n",
        "\n",
        "Explanation: Data cleaning typically involves removing duplicates, standardizing formats, and identifying outliers, but filling missing data with random values is not a common practice. Instead, missing data is often handled using methods like imputation (mean, median, mode) or deletion based on the context. What is the purpose of normalization in data analysis?\n",
        "\n",
        "Answer: b) To ensure all variables are on a similar scale\n",
        "\n",
        "Explanation: Normalization refers to the process of adjusting the values of numeric columns to a common scale without distorting differences in the ranges of values. It is often used when features have different units or scales, ensuring that all variables contribute equally to the analysis."
      ],
      "metadata": {
        "id": "L86Z7Y5uFpQS"
      }
    },
    {
      "cell_type": "code",
      "source": [],
      "metadata": {
        "id": "83i0U0i8QyU3"
      },
      "execution_count": null,
      "outputs": []
    }
  ]
}